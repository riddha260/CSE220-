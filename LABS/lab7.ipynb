{
  "nbformat": 4,
  "nbformat_minor": 0,
  "metadata": {
    "colab": {
      "provenance": []
    },
    "kernelspec": {
      "name": "python3",
      "display_name": "Python 3"
    },
    "language_info": {
      "name": "python"
    }
  },
  "cells": [
    {
      "cell_type": "code",
      "execution_count": 7,
      "metadata": {
        "colab": {
          "base_uri": "https://localhost:8080/"
        },
        "id": "hF9l58CY-UhM",
        "outputId": "423644cb-474f-45c4-e2ef-97b614666dcc"
      },
      "outputs": [
        {
          "output_type": "stream",
          "name": "stdout",
          "text": [
            "True\n",
            "[-4, -2, 1, 1, 2, 3]\n"
          ]
        }
      ],
      "source": [
        "class KeyIndex:\n",
        "  def __init__(self,a):\n",
        "    mi=min(a)\n",
        "    if mi>=0:\n",
        "      s=0\n",
        "    else:\n",
        "      s=mi*(-1)\n",
        "    self.k=[0]*(max(a)+1+s)\n",
        "    for i in range(len(a)):\n",
        "      self.k[a[i]+s]+=1\n",
        "    self.s=s\n",
        "\n",
        "  def search(self,val):\n",
        "    if (val+self.s)>=len(self.k) or self.k[val+self.s]==0:\n",
        "      return False\n",
        "    return True\n",
        "\n",
        "  def sort(self):\n",
        "    sortedArr=[0]*sum(self.k)\n",
        "    j=0\n",
        "    for i in range(len(self.k)):\n",
        "      while self.k[i]>0:\n",
        "        sortedArr[j]=i-self.s\n",
        "        self.k[i]-=1\n",
        "        j+=1\n",
        "    return sortedArr\n",
        "\n",
        "arr=[1,-2,3,-4,2,1]\n",
        "a=KeyIndex(arr)\n",
        "print(a.search(3))\n",
        "print(a.sort())\n",
        "\n",
        "\n",
        "\n",
        "\n"
      ]
    },
    {
      "cell_type": "code",
      "source": [
        "def hashFunction(s):\n",
        "  cons=0\n",
        "  num=0\n",
        "  for i in s:\n",
        "    if i in '0123456789':\n",
        "      num+=int(i)\n",
        "    elif i not in 'AEIOU':\n",
        "      cons+=1\n",
        "  val=(cons*24+(num))%9\n",
        "  return val\n",
        "\n",
        "def hashTable(arr):\n",
        "  HT=[None]*9\n",
        "  for i in range(len(arr)):\n",
        "    idx=hashFunction(arr[i])\n",
        "    if not HT[idx]:\n",
        "      HT[idx]=arr[i]\n",
        "    else:\n",
        "      j=(idx+1)%len(HT)\n",
        "      count=0\n",
        "      while count<len(HT):\n",
        "        if not HT[j]:\n",
        "          HT[j]=arr[i]\n",
        "          break\n",
        "        else:\n",
        "          j=(j+1)%len(HT)\n",
        "          count+=1\n",
        "  return HT\n",
        "\n",
        "arr=['ST1E89B8A32','ST1E89B8A32']\n",
        "hashTable(arr)\n",
        "\n",
        "\n",
        "\n"
      ],
      "metadata": {
        "colab": {
          "base_uri": "https://localhost:8080/"
        },
        "id": "_GV40qFxVSin",
        "outputId": "079c087d-79ab-40e2-e2ae-7a06708cc10f"
      },
      "execution_count": 8,
      "outputs": [
        {
          "output_type": "execute_result",
          "data": {
            "text/plain": [
              "[None, None, None, None, 'ST1E89B8A32', 'ST1E89B8A32', None, None, None]"
            ]
          },
          "metadata": {},
          "execution_count": 8
        }
      ]
    }
  ]
}