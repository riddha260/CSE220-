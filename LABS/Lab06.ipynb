{
 "cells": [
  {
   "cell_type": "code",
   "execution_count": null,
   "metadata": {
    "colab": {
     "base_uri": "https://localhost:8080/"
    },
    "id": "t_ATqP5yXkaq",
    "outputId": "023cde0f-bd4b-45be-c982-84f9ff8c1df2"
   },
   "outputs": [
    {
     "name": "stdout",
     "output_type": "stream",
     "text": [
      "120\n"
     ]
    }
   ],
   "source": [
    "# Task 1.a\n",
    "def findFacto(n):\n",
    "    if(n<0):\n",
    "        raise ValueError(\"No factorial\")\n",
    "    if(n==0):\n",
    "        return 1\n",
    "    return n * findFacto(n-1)\n",
    "    \n",
    "print(findFacto(5))"
   ]
  },
  {
   "cell_type": "code",
   "execution_count": null,
   "metadata": {
    "colab": {
     "base_uri": "https://localhost:8080/"
    },
    "id": "uXvcxU7Jd9jJ",
    "outputId": "6ea6126c-a899-4bce-8c76-9e23f2470161"
   },
   "outputs": [
    {
     "name": "stdout",
     "output_type": "stream",
     "text": [
      "5\n"
     ]
    }
   ],
   "source": [
    "#Task_1_b\n",
    "def fibo(n,f=0,s=1):\n",
    "  if(n<0):\n",
    "    raise Error()\n",
    "  if(n==0):\n",
    "    return f\n",
    "  if (n==1):\n",
    "    return s \n",
    "\n",
    "  temp = s\n",
    "  s = f+temp \n",
    "  f = temp\n",
    "  return fibo(n-1,f,s)\n",
    "print(fibo(5))"
   ]
  },
  {
   "cell_type": "code",
   "execution_count": null,
   "metadata": {
    "colab": {
     "base_uri": "https://localhost:8080/"
    },
    "id": "eQi_VaaLd9lm",
    "outputId": "8bccdc12-6bc1-492d-e82c-7b0c5887e8e4"
   },
   "outputs": [
    {
     "name": "stdout",
     "output_type": "stream",
     "text": [
      "[10, 20, 30]\n"
     ]
    }
   ],
   "source": [
    "#Task_1_c\n",
    "def arr(arr, i=0):\n",
    "  if (len(arr)!=1):\n",
    "    print(arr[i])\n",
    "    return arr(arr,i+1)\n",
    "arr=[10,20,30]\n",
    "print(arr)"
   ]
  },
  {
   "cell_type": "code",
   "execution_count": null,
   "metadata": {
    "colab": {
     "base_uri": "https://localhost:8080/"
    },
    "id": "vrrdBgK9d9n9",
    "outputId": "6496712b-96ed-473c-9b8d-e0ed34da1380"
   },
   "outputs": [
    {
     "name": "stdout",
     "output_type": "stream",
     "text": [
      "27\n"
     ]
    }
   ],
   "source": [
    "#Task_1_d\n",
    "def powerN(base,n):\n",
    "  if(n==0):\n",
    "    return 1\n",
    "\n",
    "  return 3 * powerN(3,n-1)    # 3*3*3\n",
    "\n",
    "print(powerN(3,3))"
   ]
  },
  {
   "cell_type": "code",
   "execution_count": null,
   "metadata": {
    "colab": {
     "base_uri": "https://localhost:8080/"
    },
    "id": "2ui6upydd9qb",
    "outputId": "da04faff-4d69-4d8a-814b-c0ff91e8ee42"
   },
   "outputs": [
    {
     "name": "stdout",
     "output_type": "stream",
     "text": [
      "Binary of 27 is: 100\n",
      "Binary of 99 is: 101\n"
     ]
    }
   ],
   "source": [
    "#Task_2_a\n",
    "def decimalToBinary(d,b=''):\n",
    "    if(d==0):\n",
    "        if(b!=\"\"):\n",
    "            return b[::-1]\n",
    "        return 0\n",
    "    b+=str(d%2)\n",
    "    return decimalToBinary(d//2,b)\n",
    "\n",
    "print(\"Binary of 27 is:\",decimalToBinary(4))\n",
    "print(\"Binary of 99 is:\",decimalToBinary(5))"
   ]
  },
  {
   "cell_type": "code",
   "execution_count": null,
   "metadata": {
    "colab": {
     "base_uri": "https://localhost:8080/"
    },
    "id": "XhWe-Rfki70e",
    "outputId": "470317ff-7b06-4adb-8fd0-108c75e88a65"
   },
   "outputs": [
    {
     "name": "stdout",
     "output_type": "stream",
     "text": [
      "150\n"
     ]
    }
   ],
   "source": [
    "# Task 2.b\n",
    "# Non- Dummy headed Singly linear linked list\n",
    "class Node:\n",
    "    def __init__(self,v,n=None):\n",
    "        self.value = v\n",
    "        self.next = n\n",
    "class LL:\n",
    "    head = None\n",
    "    \n",
    "    def __init__(self,itr):\n",
    "        \n",
    "        for i in itr:\n",
    "            nN = Node(i)\n",
    "            if(self.head is None):\n",
    "                self.head = nN\n",
    "                fst = self.head\n",
    "            else:\n",
    "                fst.next = nN\n",
    "                fst = nN\n",
    "a = [10,20,30,40,50]\n",
    "x = LL(a)\n",
    "def SumofLLItems(head):\n",
    "    if(head is None):\n",
    "        return 0\n",
    "    return head.value + SumofLLItems(head.next)\n",
    "\n",
    "print(SumofLLItems(x.head))"
   ]
  },
  {
   "cell_type": "code",
   "execution_count": null,
   "metadata": {
    "colab": {
     "base_uri": "https://localhost:8080/"
    },
    "id": "qUp8ZPzMi726",
    "outputId": "e8d9a197-656c-4830-e807-30b5abd20f84"
   },
   "outputs": [
    {
     "name": "stdout",
     "output_type": "stream",
     "text": [
      "50\n",
      "40\n",
      "30\n",
      "20\n",
      "10\n"
     ]
    }
   ],
   "source": [
    "# Task 2.c\n",
    "def reverse_print(head):\n",
    "    if(head.next is None):\n",
    "        print(head.value)\n",
    "        return\n",
    "    reverse_print(head.next)\n",
    "    print(head.value)\n",
    "\n",
    "reverse_print(x.head)"
   ]
  },
  {
   "cell_type": "code",
   "execution_count": null,
   "metadata": {
    "colab": {
     "base_uri": "https://localhost:8080/"
    },
    "id": "x04zqwW7jKnz",
    "outputId": "f19cdc2e-f793-48c1-cc2a-63f430c07977"
   },
   "outputs": [
    {
     "name": "stdout",
     "output_type": "stream",
     "text": [
      "For height 1 we need: 8 cards\n",
      "For height 2 we need: 13 cards\n",
      "For height 0 we need: 0 cards\n",
      "For height 5 we need: 28 cards\n"
     ]
    }
   ],
   "source": [
    "# Task 3\n",
    "def hocBuilder(height):\n",
    "    if(height==0):\n",
    "        return 0\n",
    "    if(height == 1):\n",
    "        return 8\n",
    "    return 5 + hocBuilder(height-1)\n",
    "\n",
    "print(\"For height 1 we need:\",hocBuilder(1),\"cards\")\n",
    "print(\"For height 2 we need:\",hocBuilder(2),\"cards\")\n",
    "print(\"For height 0 we need:\",hocBuilder(0),\"cards\")\n",
    "print(\"For height 5 we need:\",hocBuilder(5),\"cards\")"
   ]
  },
  {
   "cell_type": "code",
   "execution_count": null,
   "metadata": {
    "colab": {
     "base_uri": "https://localhost:8080/"
    },
    "id": "snb6oClIjKqa",
    "outputId": "ff887bc0-814d-4e24-fafc-7ce15319a66c"
   },
   "outputs": [
    {
     "name": "stdout",
     "output_type": "stream",
     "text": [
      "1 \n",
      "1 2 \n",
      "1 2 3 \n",
      "1 2 3 4 \n",
      "1 2 3 4 5 \n"
     ]
    }
   ],
   "source": [
    "#Task 4.a\n",
    "def pattern(n):\n",
    "    if(n==0):\n",
    "        return\n",
    "    pattern(n-1)\n",
    "    row(n)\n",
    "    print()\n",
    "def row(n):\n",
    "    if(n==0):\n",
    "        return\n",
    "    \n",
    "    row(n-1)\n",
    "    print(n,end=\" \")\n",
    "    \n",
    "pattern(5)"
   ]
  },
  {
   "cell_type": "code",
   "execution_count": null,
   "metadata": {
    "colab": {
     "base_uri": "https://localhost:8080/"
    },
    "id": "aDJuwXjHjNxp",
    "outputId": "65a4a201-ae91-438f-b972-2d3dc6cb9fc1"
   },
   "outputs": [
    {
     "name": "stdout",
     "output_type": "stream",
     "text": [
      "        1 \n",
      "      1 2 \n",
      "    1 2 3 \n",
      "  1 2 3 4 \n",
      "1 2 3 4 5 \n"
     ]
    }
   ],
   "source": [
    "# Task 4.b\n",
    "def patternTwo(n,num=1):\n",
    "    if(n==0):\n",
    "        return\n",
    "    col_sp(n-1)\n",
    "    col_num(num)\n",
    "    print()\n",
    "    patternTwo(n-1,num+1)\n",
    "def col_num(n):\n",
    "    if(n==0):\n",
    "        return\n",
    "    col_num(n-1)\n",
    "    print(n,end=\" \")\n",
    "def col_sp(n):\n",
    "    if(n==0):\n",
    "        return\n",
    "    col_sp(n-1)\n",
    "    print(\" \",end=\" \")\n",
    "\n",
    "patternTwo(5)"
   ]
  },
  {
   "cell_type": "code",
   "execution_count": null,
   "metadata": {
    "colab": {
     "base_uri": "https://localhost:8080/"
    },
    "id": "48zdgrpmjN0Q",
    "outputId": "0c6fbb62-e89f-48a5-8680-8665cea5e64e"
   },
   "outputs": [
    {
     "name": "stdout",
     "output_type": "stream",
     "text": [
      "\n",
      "//=======Calculate Profit=======//\n",
      "1. Investment: 25000; Profit: 0\n",
      "2. Investment: 100000; Profit: 3375.0\n",
      "3. Investment: 250000; Profit: 15375.0\n",
      "4. Investment: 350000; Profit: 23375.0\n"
     ]
    }
   ],
   "source": [
    "# Task 5\n",
    "class FinalQ: \n",
    "    def print(self,array,idx): \n",
    "        if(idx<len(array)): \n",
    "            profit = self.calcProfit(array[idx])\n",
    "            print(\"{}. Investment: {}; Profit: {}\".format(idx+1,array[idx],profit))\n",
    "            self.print(array,idx+1)\n",
    "    def calcProfit(self,investment):\n",
    "        if(investment<=25000):\n",
    "            return 0\n",
    "        elif(investment<=100000):\n",
    "            investment = investment-25000\n",
    "            return investment/(1/0.045)\n",
    "        investment = investment-100000\n",
    "        return (investment/(1/0.08)) + self.calcProfit(100000)\n",
    "        \n",
    "print(\"\\n//=======Calculate Profit=======//\")\n",
    "array=[25000,100000,250000,350000] \n",
    "f = FinalQ() \n",
    "f.print(array,0)"
   ]
  },
  {
   "cell_type": "code",
   "execution_count": null,
   "metadata": {
    "colab": {
     "base_uri": "https://localhost:8080/"
    },
    "id": "vV2a8asktfok",
    "outputId": "1583baed-92e9-4869-ac1b-930fdd4c1580"
   },
   "outputs": [
    {
     "name": "stdout",
     "output_type": "stream",
     "text": [
      "[1, 2, 3, 4, 5, 6, 7, 8, 9, 10, 11, 12, 13, 14, 15, 16, 17]\n"
     ]
    }
   ],
   "source": [
    "#Flatten_List_Task\n",
    "\n",
    "given_list = [1, [2, [3, [4], 5], 6], 7, 8, [9, [[10, 11], 12], 13], 14, [15, [16, [17]]]] \n",
    "\n",
    "def flattenList(given_list,output_list):\n",
    "  if(given_list==[]):\n",
    "    return []\n",
    "  if(type(given_list[0])==list):\n",
    "    flattenList(given_list[0],output_list)\n",
    "  \n",
    "\n",
    "  elif(type(given_list[0])!=list):\n",
    "    output_list.append(given_list[0])\n",
    "  flattenList(given_list[1:], output_list)\n",
    "  return output_list\n",
    "\n",
    "print(flattenList(given_list, []))"
   ]
  }
 ],
 "metadata": {
  "colab": {
   "provenance": []
  },
  "kernelspec": {
   "display_name": "Python 3",
   "language": "python",
   "name": "python3"
  },
  "language_info": {
   "codemirror_mode": {
    "name": "ipython",
    "version": 3
   },
   "file_extension": ".py",
   "mimetype": "text/x-python",
   "name": "python",
   "nbconvert_exporter": "python",
   "pygments_lexer": "ipython3",
   "version": "3.8.8"
  }
 },
 "nbformat": 4,
 "nbformat_minor": 1
}
